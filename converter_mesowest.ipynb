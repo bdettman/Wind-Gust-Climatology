{
 "cells": [
  {
   "cell_type": "code",
   "execution_count": null,
   "metadata": {},
   "outputs": [],
   "source": [
    "# This script was created to convert .csv files of wind data from https://download.synopticdata.com/ (MesoWest)\n",
    "# It will take the raw data and return a new file that has Sustained Wind Speed, Gust Factor, Year, Month, and Day.\n",
    "# The Gust Factor is calculated using the sustained wind speed and gust wind speed values.\n",
    "\n",
    "# Coded by: Brennan Dettmann\n",
    "# Date: 6/5/2020"
   ]
  },
  {
   "cell_type": "code",
   "execution_count": 1,
   "metadata": {},
   "outputs": [],
   "source": [
    "# imports all of the necessary modules\n",
    "\n",
    "#import sys\n",
    "import csv\n",
    "import os\n",
    "import pandas as pd"
   ]
  },
  {
   "cell_type": "code",
   "execution_count": null,
   "metadata": {},
   "outputs": [],
   "source": [
    "#df = pd.read_csv('C:/Users/brenn/Desktop/Juneau Internship/Data/LAND/Final Datasets/BLTA2_kts.csv')"
   ]
  },
  {
   "cell_type": "code",
   "execution_count": 2,
   "metadata": {},
   "outputs": [
    {
     "name": "stdin",
     "output_type": "stream",
     "text": [
      "Input Filename:  BLTA2_kts\n"
     ]
    },
    {
     "data": {
      "text/plain": [
       "65"
      ]
     },
     "execution_count": 2,
     "metadata": {},
     "output_type": "execute_result"
    }
   ],
   "source": [
    "filename = input('Input Filename: ') # make sure to put in format {station}_{units} ex. PAGN_kts\n",
    "station = filename.split(\"_\")[0]\n",
    "units = filename.split(\"_\")[1]\n",
    "\n",
    "df = pd.read_csv(f'{station}_{units}.csv', sep=',', header=[11])\n",
    "pulledFile = open(f'{filename}.csv')\n",
    "reader = csv.reader(pulledFile, delimiter = \",\")\n",
    "\n",
    "allDir = open(f'/home/bdettman/Juneau_Internship/Wind-Gust-Climatology/sorteddata/{station}_All.csv', 'a+')\n",
    "allDirwriter = csv.writer(allDir, delimiter =',', quotechar='\"', quoting = csv.QUOTE_ALL)\n",
    "allDirwriter.writerow([\"Sustained Wind Speed (kts)\", \"Gust Factor\", \"Year\", \"Month\", \"Day\"])"
   ]
  },
  {
   "cell_type": "code",
   "execution_count": 3,
   "metadata": {},
   "outputs": [
    {
     "data": {
      "text/html": [
       "<div>\n",
       "<style scoped>\n",
       "    .dataframe tbody tr th:only-of-type {\n",
       "        vertical-align: middle;\n",
       "    }\n",
       "\n",
       "    .dataframe tbody tr th {\n",
       "        vertical-align: top;\n",
       "    }\n",
       "\n",
       "    .dataframe thead th {\n",
       "        text-align: right;\n",
       "    }\n",
       "</style>\n",
       "<table border=\"1\" class=\"dataframe\">\n",
       "  <thead>\n",
       "    <tr style=\"text-align: right;\">\n",
       "      <th></th>\n",
       "      <th>Unnamed: 0</th>\n",
       "      <th>Unnamed: 1</th>\n",
       "      <th>knots</th>\n",
       "      <th>Degrees</th>\n",
       "      <th>knots.1</th>\n",
       "      <th>Code</th>\n",
       "    </tr>\n",
       "  </thead>\n",
       "  <tbody>\n",
       "    <tr>\n",
       "      <th>0</th>\n",
       "      <td>BLTA2</td>\n",
       "      <td>2010-08-24T18:25:00Z</td>\n",
       "      <td>0.00</td>\n",
       "      <td>246.0</td>\n",
       "      <td>1.75</td>\n",
       "      <td>WSW</td>\n",
       "    </tr>\n",
       "    <tr>\n",
       "      <th>1</th>\n",
       "      <td>BLTA2</td>\n",
       "      <td>2010-08-24T20:25:00Z</td>\n",
       "      <td>1.75</td>\n",
       "      <td>269.0</td>\n",
       "      <td>4.33</td>\n",
       "      <td>W</td>\n",
       "    </tr>\n",
       "    <tr>\n",
       "      <th>2</th>\n",
       "      <td>BLTA2</td>\n",
       "      <td>2010-08-24T21:25:00Z</td>\n",
       "      <td>0.87</td>\n",
       "      <td>260.0</td>\n",
       "      <td>2.60</td>\n",
       "      <td>W</td>\n",
       "    </tr>\n",
       "    <tr>\n",
       "      <th>3</th>\n",
       "      <td>BLTA2</td>\n",
       "      <td>2010-08-24T22:25:00Z</td>\n",
       "      <td>1.75</td>\n",
       "      <td>262.0</td>\n",
       "      <td>5.21</td>\n",
       "      <td>W</td>\n",
       "    </tr>\n",
       "    <tr>\n",
       "      <th>4</th>\n",
       "      <td>BLTA2</td>\n",
       "      <td>2010-08-24T23:25:00Z</td>\n",
       "      <td>0.87</td>\n",
       "      <td>247.0</td>\n",
       "      <td>2.60</td>\n",
       "      <td>WSW</td>\n",
       "    </tr>\n",
       "    <tr>\n",
       "      <th>...</th>\n",
       "      <td>...</td>\n",
       "      <td>...</td>\n",
       "      <td>...</td>\n",
       "      <td>...</td>\n",
       "      <td>...</td>\n",
       "      <td>...</td>\n",
       "    </tr>\n",
       "    <tr>\n",
       "      <th>42307</th>\n",
       "      <td>BLTA2</td>\n",
       "      <td>2020-04-30T19:25:00Z</td>\n",
       "      <td>5.03</td>\n",
       "      <td>129.9</td>\n",
       "      <td>8.51</td>\n",
       "      <td>SE</td>\n",
       "    </tr>\n",
       "    <tr>\n",
       "      <th>42308</th>\n",
       "      <td>BLTA2</td>\n",
       "      <td>2020-04-30T20:25:00Z</td>\n",
       "      <td>4.88</td>\n",
       "      <td>141.8</td>\n",
       "      <td>8.34</td>\n",
       "      <td>SE</td>\n",
       "    </tr>\n",
       "    <tr>\n",
       "      <th>42309</th>\n",
       "      <td>BLTA2</td>\n",
       "      <td>2020-04-30T21:25:00Z</td>\n",
       "      <td>4.78</td>\n",
       "      <td>155.4</td>\n",
       "      <td>9.29</td>\n",
       "      <td>SSE</td>\n",
       "    </tr>\n",
       "    <tr>\n",
       "      <th>42310</th>\n",
       "      <td>BLTA2</td>\n",
       "      <td>2020-04-30T22:25:00Z</td>\n",
       "      <td>4.33</td>\n",
       "      <td>144.0</td>\n",
       "      <td>8.09</td>\n",
       "      <td>SE</td>\n",
       "    </tr>\n",
       "    <tr>\n",
       "      <th>42311</th>\n",
       "      <td>BLTA2</td>\n",
       "      <td>2020-04-30T23:25:00Z</td>\n",
       "      <td>3.73</td>\n",
       "      <td>163.9</td>\n",
       "      <td>7.04</td>\n",
       "      <td>SSE</td>\n",
       "    </tr>\n",
       "  </tbody>\n",
       "</table>\n",
       "<p>42312 rows × 6 columns</p>\n",
       "</div>"
      ],
      "text/plain": [
       "      Unnamed: 0            Unnamed: 1  knots  Degrees  knots.1 Code\n",
       "0          BLTA2  2010-08-24T18:25:00Z   0.00    246.0     1.75  WSW\n",
       "1          BLTA2  2010-08-24T20:25:00Z   1.75    269.0     4.33    W\n",
       "2          BLTA2  2010-08-24T21:25:00Z   0.87    260.0     2.60    W\n",
       "3          BLTA2  2010-08-24T22:25:00Z   1.75    262.0     5.21    W\n",
       "4          BLTA2  2010-08-24T23:25:00Z   0.87    247.0     2.60  WSW\n",
       "...          ...                   ...    ...      ...      ...  ...\n",
       "42307      BLTA2  2020-04-30T19:25:00Z   5.03    129.9     8.51   SE\n",
       "42308      BLTA2  2020-04-30T20:25:00Z   4.88    141.8     8.34   SE\n",
       "42309      BLTA2  2020-04-30T21:25:00Z   4.78    155.4     9.29  SSE\n",
       "42310      BLTA2  2020-04-30T22:25:00Z   4.33    144.0     8.09   SE\n",
       "42311      BLTA2  2020-04-30T23:25:00Z   3.73    163.9     7.04  SSE\n",
       "\n",
       "[42312 rows x 6 columns]"
      ]
     },
     "execution_count": 3,
     "metadata": {},
     "output_type": "execute_result"
    }
   ],
   "source": [
    "df"
   ]
  },
  {
   "cell_type": "code",
   "execution_count": 4,
   "metadata": {},
   "outputs": [],
   "source": [
    "def directionconverter(drxn):\n",
    "#if len(drxn.strip()) != 3: return drxn.strip()\t\n",
    "#else:\n",
    "        drxn = int(drxn)\n",
    "        if drxn >= 340 or drxn < 30: return \"N\"\n",
    "        elif drxn < 70: return \"NE\"\n",
    "        elif drxn < 120: return \"E\"\n",
    "        elif drxn < 160: return \"SE\"\n",
    "        elif drxn < 210: return \"S\"\n",
    "        elif drxn < 250: return \"SW\"\n",
    "        elif drxn < 300: return \"W\"\n",
    "        elif drxn < 340: return \"NW\"\n",
    "        else: return drxn.strip()"
   ]
  },
  {
   "cell_type": "code",
   "execution_count": 5,
   "metadata": {},
   "outputs": [
    {
     "name": "stdout",
     "output_type": "stream",
     "text": [
      "SW\n",
      "W\n",
      "W\n",
      "W\n",
      "SW\n",
      "NE\n",
      "N\n",
      "W\n",
      "N\n",
      "N\n"
     ]
    }
   ],
   "source": [
    "#df = df.fillna(0)\n",
    "#df.IntDegrees = df.Degrees.astype(int)\n",
    "for i in range(10):  # testing the loop\n",
    "    print(directionconverter(df.Degrees[i]))"
   ]
  },
  {
   "cell_type": "code",
   "execution_count": 6,
   "metadata": {},
   "outputs": [],
   "source": [
    "df = df.fillna(0)"
   ]
  },
  {
   "cell_type": "code",
   "execution_count": 8,
   "metadata": {},
   "outputs": [
    {
     "ename": "FileNotFoundError",
     "evalue": "[Errno 2] No such file or directory: '/home/bdettman/Juneau_Internship/sorteddata/BLTA2_SW.csv'",
     "output_type": "error",
     "traceback": [
      "\u001b[0;31m---------------------------------------------------------------------------\u001b[0m",
      "\u001b[0;31mFileNotFoundError\u001b[0m                         Traceback (most recent call last)",
      "\u001b[0;32m<ipython-input-8-a9c4f8b8a861>\u001b[0m in \u001b[0;36m<module>\u001b[0;34m\u001b[0m\n\u001b[1;32m     15\u001b[0m                     \u001b[0mday\u001b[0m \u001b[0;34m=\u001b[0m \u001b[0mrow\u001b[0m\u001b[0;34m[\u001b[0m\u001b[0;36m1\u001b[0m\u001b[0;34m]\u001b[0m\u001b[0;34m[\u001b[0m\u001b[0;36m8\u001b[0m\u001b[0;34m:\u001b[0m\u001b[0;36m10\u001b[0m\u001b[0;34m]\u001b[0m\u001b[0;34m\u001b[0m\u001b[0;34m\u001b[0m\u001b[0m\n\u001b[1;32m     16\u001b[0m                     \u001b[0mallDirwriter\u001b[0m\u001b[0;34m.\u001b[0m\u001b[0mwriterow\u001b[0m\u001b[0;34m(\u001b[0m\u001b[0;34m[\u001b[0m\u001b[0mwindSpeed\u001b[0m\u001b[0;34m,\u001b[0m \u001b[0mgustMultiplier\u001b[0m\u001b[0;34m,\u001b[0m \u001b[0myear\u001b[0m\u001b[0;34m,\u001b[0m \u001b[0mmonth\u001b[0m\u001b[0;34m,\u001b[0m \u001b[0mday\u001b[0m\u001b[0;34m]\u001b[0m\u001b[0;34m)\u001b[0m\u001b[0;34m\u001b[0m\u001b[0;34m\u001b[0m\u001b[0m\n\u001b[0;32m---> 17\u001b[0;31m                     \u001b[0moneDir\u001b[0m\u001b[0;34m=\u001b[0m\u001b[0mopen\u001b[0m\u001b[0;34m(\u001b[0m\u001b[0;34m(\u001b[0m\u001b[0;34mf'/home/bdettman/Juneau_Internship/sorteddata/{station}_{windDir}.csv'\u001b[0m\u001b[0;34m)\u001b[0m\u001b[0;34m,\u001b[0m\u001b[0;34m'a+'\u001b[0m\u001b[0;34m)\u001b[0m\u001b[0;34m\u001b[0m\u001b[0;34m\u001b[0m\u001b[0m\n\u001b[0m\u001b[1;32m     18\u001b[0m                     \u001b[0moneDirwriter\u001b[0m \u001b[0;34m=\u001b[0m \u001b[0mcsv\u001b[0m\u001b[0;34m.\u001b[0m\u001b[0mwriter\u001b[0m\u001b[0;34m(\u001b[0m\u001b[0moneDir\u001b[0m\u001b[0;34m,\u001b[0m \u001b[0mdelimiter\u001b[0m \u001b[0;34m=\u001b[0m\u001b[0;34m','\u001b[0m\u001b[0;34m,\u001b[0m \u001b[0mquotechar\u001b[0m\u001b[0;34m=\u001b[0m\u001b[0;34m'\"'\u001b[0m\u001b[0;34m,\u001b[0m \u001b[0mquoting\u001b[0m \u001b[0;34m=\u001b[0m \u001b[0mcsv\u001b[0m\u001b[0;34m.\u001b[0m\u001b[0mQUOTE_ALL\u001b[0m\u001b[0;34m)\u001b[0m\u001b[0;34m\u001b[0m\u001b[0;34m\u001b[0m\u001b[0m\n\u001b[1;32m     19\u001b[0m                     \u001b[0;32mif\u001b[0m \u001b[0mos\u001b[0m\u001b[0;34m.\u001b[0m\u001b[0mpath\u001b[0m\u001b[0;34m.\u001b[0m\u001b[0mgetsize\u001b[0m\u001b[0;34m(\u001b[0m\u001b[0;34mf'/home/bdettman/Juneau_Internship/sorteddata/{station}_{windDir}.csv'\u001b[0m\u001b[0;34m)\u001b[0m \u001b[0;34m==\u001b[0m \u001b[0;36m0\u001b[0m\u001b[0;34m:\u001b[0m\u001b[0;34m\u001b[0m\u001b[0;34m\u001b[0m\u001b[0m\n",
      "\u001b[0;31mFileNotFoundError\u001b[0m: [Errno 2] No such file or directory: '/home/bdettman/Juneau_Internship/sorteddata/BLTA2_SW.csv'"
     ]
    }
   ],
   "source": [
    "for row in reader:\n",
    "    if len(row) == 6:\n",
    "        if len(row[3].strip()) in range(1,4):\n",
    "            for i in range(42311):\n",
    "                windDir = directionconverter(df.Degrees[i])\n",
    "                if any(num in row[1] for num in [\"1\", \"2\", \"3\", \"4\", \"5\", \"6\", \"7\", \"8\", \"9\"]):\n",
    "                    if units == \"mph\":\n",
    "                        windSpeed = float(row[2])*.87\n",
    "                    if units == \"knots\" or units == \"kts\":\n",
    "                        windSpeed = float(row[2])\n",
    "                    windGust = float(row[4])\n",
    "                    gustMultiplier = windGust/windSpeed\n",
    "                    year = row[1][0:4]\n",
    "                    month = row[1][5:7]\n",
    "                    day = row[1][8:10]\n",
    "                    allDirwriter.writerow([windSpeed, gustMultiplier, year, month, day])\n",
    "                    oneDir=open((f'/home/bdettman/Juneau_Internship/sorteddata/{station}_{windDir}.csv'),'a+')\n",
    "                    oneDirwriter = csv.writer(oneDir, delimiter =',', quotechar='\"', quoting = csv.QUOTE_ALL)\n",
    "                    if os.path.getsize(f'/home/bdettman/Juneau_Internship/sorteddata/{station}_{windDir}.csv') == 0:\n",
    "                        oneDirwriter.writerow([\"Sustained Wind Speed (kts)\", \"Gust Factor\", \"Year\", \"Month\", \"Day\"])\n",
    "                    oneDirwriter.writerow([windSpeed, gustMultiplier, year, month, day])\n",
    "                    oneDir.close()\n",
    "\n",
    "allDir.close()\n",
    "pulledFile.close()"
   ]
  },
  {
   "cell_type": "code",
   "execution_count": null,
   "metadata": {},
   "outputs": [],
   "source": []
  }
 ],
 "metadata": {
  "kernelspec": {
   "display_name": "Python 3",
   "language": "python",
   "name": "python3"
  },
  "language_info": {
   "codemirror_mode": {
    "name": "ipython",
    "version": 3
   },
   "file_extension": ".py",
   "mimetype": "text/x-python",
   "name": "python",
   "nbconvert_exporter": "python",
   "pygments_lexer": "ipython3",
   "version": "3.7.6"
  }
 },
 "nbformat": 4,
 "nbformat_minor": 4
}
