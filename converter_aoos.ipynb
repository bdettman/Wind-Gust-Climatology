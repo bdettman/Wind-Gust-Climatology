{
 "cells": [
  {
   "cell_type": "code",
   "execution_count": 1,
   "metadata": {},
   "outputs": [],
   "source": [
    "# This script was created to convert .csv files of wind data from https://portal.aoos.org/#map (Alaska Ocean Observing System)\n",
    "# It will take the raw data and return a new file that has Sustained Wind Speed, Gust Factor, Year, Month, and Day.\n",
    "# The Gust Factor is calculated using the sustained wind speed and gust wind speed values.\n",
    "\n",
    "# Coded by: Brennan Dettmann\n",
    "# Date: 6/5/2020"
   ]
  },
  {
   "cell_type": "code",
   "execution_count": 2,
   "metadata": {},
   "outputs": [],
   "source": [
    "# imports all of the necessary modules\n",
    "\n",
    "import csv\n",
    "import os"
   ]
  },
  {
   "cell_type": "code",
   "execution_count": 3,
   "metadata": {},
   "outputs": [],
   "source": [
    "# properly converts direction from degrees to cardinal direction\n",
    "\n",
    "def directionconverter(drxn):\n",
    "    drxn = int(float(drxn))    \n",
    "    if drxn >= 337.5 or drxn < 22.5: return \"N\"\n",
    "    elif drxn < 67.5: return \"NE\"\n",
    "    elif drxn < 112.5: return \"E\"\n",
    "    elif drxn < 157.5: return \"SE\"\n",
    "    elif drxn < 202.5: return \"S\"\n",
    "    elif drxn < 247.5: return \"SW\"\n",
    "    elif drxn < 292.5: return \"W\"\n",
    "    elif drxn < 337.5: return \"NW\""
   ]
  },
  {
   "cell_type": "code",
   "execution_count": 4,
   "metadata": {},
   "outputs": [
    {
     "name": "stdin",
     "output_type": "stream",
     "text": [
      "Input Filename:  MRNA2_kts\n"
     ]
    }
   ],
   "source": [
    "# here is the meat of the script, I'll attempt to explain each subsection's purpose\n",
    "\n",
    "# prompts the user to input a file name and defines the station and units (will be used when naming new files later)\n",
    "filename = input('Input Filename: ') # make sure to put in format {station}_{units} ex. PAGN_kts\n",
    "station = filename.split(\"_\")[0]\n",
    "units = filename.split(\"_\")[1]\n",
    "\n",
    "# uses the csv module to open the desired file\n",
    "pulledFile = open(f'{filename}.csv')\n",
    "reader = csv.reader(pulledFile, delimiter = \",\")\n",
    "\n",
    "# uses csv module to open a file where all of the data will go into\n",
    "with open(f'/home/bdettman/Juneau_Internship/Wind-Gust-Climatology/sorteddata/{station}_All.csv', 'a') as allDir:\n",
    "    allDirwriter = csv.writer(allDir, delimiter =',', quotechar='\"', quoting = csv.QUOTE_ALL)\n",
    "    allDirwriter.writerow([\"Sustained Wind Speed (kts)\", \"Gust Factor\", \"Year\", \"Month\", \"Day\"])\n",
    "    \n",
    "    for row in reader:     #this loop works to only read rows that have usuable data and pertain to the new files\n",
    "        if row[2] != \"0\":\n",
    "            if row[5] != \"0\":\n",
    "                if row[2] != \"kts\":\n",
    "                    if row[5] != \"kts\":\n",
    "                        if row[2] != \"wind_speed_kts\":\n",
    "                            if row[5] != \"wind_speed_kts\":\n",
    "                                if row[2] != \"#VALUE!\":\n",
    "                                    if row[5] != \"#VALUE!\":\n",
    "                                        if row[3] != \"NaN\":\n",
    "                                            if units == \"mph\":\n",
    "                                                windSpeed = float(row[2])*.87\n",
    "                                            if units == \"knots\" or units == \"kts\":\n",
    "                                                windSpeed = float(row[2])\n",
    "                                            windGust = float(row[5])\n",
    "                                            gustMultiplier = windGust/windSpeed\n",
    "                                            windDir = directionconverter(row[3])\n",
    "                                            year = row[0][0:4]\n",
    "                                            month = row[0][5:7]\n",
    "                                            day = row[0][8:10]\n",
    "                                            allDirwriter.writerow([windSpeed, gustMultiplier, year, month, day])     #writes all the data into the \"all\" file\n",
    "                                            with open(f'/home/bdettman/Juneau_Internship/Wind-Gust-Climatology/sorteddata/{station}_{windDir}.csv', 'a') as oneDir:\n",
    "                                                oneDirwriter = csv.writer(oneDir, delimiter =',', quotechar='\"', quoting = csv.QUOTE_ALL)\n",
    "                                                if os.path.getsize(f'/home/bdettman/Juneau_Internship/Wind-Gust-Climatology/sorteddata/{station}_{windDir}.csv') == 0:\n",
    "                                                    oneDirwriter.writerow([\"Sustained Wind Speed (kts)\", \"Gust Factor\", \"Year\", \"Month\", \"Day\"])     #if the file does not exist yet, then it will write these variables at the top\n",
    "                                                oneDirwriter.writerow([windSpeed, gustMultiplier, year, month, day])     #writes the data into each file based on the wind direction the row has"
   ]
  },
  {
   "cell_type": "code",
   "execution_count": 5,
   "metadata": {},
   "outputs": [],
   "source": [
    "# closes the writer and reader modules\n",
    "\n",
    "allDir.close()\n",
    "allDir.close()\n",
    "pulledFile.close()"
   ]
  },
  {
   "cell_type": "code",
   "execution_count": null,
   "metadata": {},
   "outputs": [],
   "source": []
  }
 ],
 "metadata": {
  "kernelspec": {
   "display_name": "Python 3",
   "language": "python",
   "name": "python3"
  },
  "language_info": {
   "codemirror_mode": {
    "name": "ipython",
    "version": 3
   },
   "file_extension": ".py",
   "mimetype": "text/x-python",
   "name": "python",
   "nbconvert_exporter": "python",
   "pygments_lexer": "ipython3",
   "version": "3.7.6"
  }
 },
 "nbformat": 4,
 "nbformat_minor": 4
}
